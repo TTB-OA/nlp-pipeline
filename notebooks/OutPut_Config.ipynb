{
 "cells": [
  {
   "cell_type": "code",
   "execution_count": 23,
   "id": "463592f3-7d50-4bc1-86e6-68118b9a2c0e",
   "metadata": {},
   "outputs": [],
   "source": [
    "import pandas as pd\n",
    "import numpy as np\n",
    "import os\n",
    "from pathlib import Path"
   ]
  },
  {
   "cell_type": "code",
   "execution_count": 25,
   "id": "0ba21dba-d40e-4ce8-bfae-7bfcf310aa4d",
   "metadata": {},
   "outputs": [],
   "source": [
    "dockets = [\"TTB-2025-0003\", \"TTB-2025-0002\"]"
   ]
  },
  {
   "cell_type": "code",
   "execution_count": 27,
   "id": "973a0e28-2b8d-4cfb-8258-3bb0b45af9b0",
   "metadata": {},
   "outputs": [],
   "source": [
    "try:\n",
    "    REPO_ROOT = Path(__file__).parent.parent.resolve()\n",
    "except NameError:\n",
    "    REPO_ROOT = Path(os.getcwd()).parent.resolve()\n",
    "\n",
    "OUTPUTS_DIR = REPO_ROOT / \"outputs\"\n",
    "OUTPUTS_DIR.mkdir(parents=True, exist_ok=True)"
   ]
  },
  {
   "cell_type": "code",
   "execution_count": 29,
   "id": "f91bba72-c8ec-426f-bccf-0b695c265227",
   "metadata": {},
   "outputs": [],
   "source": [
    "comments_paths = []\n",
    "summary_paths = []\n",
    "\n",
    "for i in dockets:\n",
    "    comments_path = OUTPUTS_DIR / f\"comments_with_bertopic_{i}.csv\"\n",
    "    summary_path    = OUTPUTS_DIR / f\"bertopic_topic_summary_{i}.csv\"\n",
    "    comments_paths.append(comments_path)\n",
    "    summary_paths.append(summary_path)"
   ]
  },
  {
   "cell_type": "code",
   "execution_count": 31,
   "id": "d7a68f34-113b-4542-9c16-79d303d9873f",
   "metadata": {},
   "outputs": [
    {
     "name": "stdout",
     "output_type": "stream",
     "text": [
      "[WindowsPath('C:/Users/linna/OneDrive/Documents/Python_Dev/topic-modeling/outputs/comments_with_bertopic_TTB-2025-0003.csv'), WindowsPath('C:/Users/linna/OneDrive/Documents/Python_Dev/topic-modeling/outputs/comments_with_bertopic_TTB-2025-0002.csv')]\n"
     ]
    }
   ],
   "source": [
    "print(comments_paths)"
   ]
  },
  {
   "cell_type": "code",
   "execution_count": 33,
   "id": "f14dc505-8e08-46e6-bfbc-940b12ac9578",
   "metadata": {},
   "outputs": [],
   "source": [
    "comments_dfs = []\n",
    "for p in comments_paths:\n",
    "    if not p.exists():\n",
    "        print(f\"Warning: missing file {p}; skipping.\")\n",
    "        continue\n",
    "    comments_dfs.append(pd.read_csv(p))"
   ]
  },
  {
   "cell_type": "code",
   "execution_count": 55,
   "id": "fdd1fd4c-7d65-4e6b-ad0e-2dd1581d615e",
   "metadata": {},
   "outputs": [],
   "source": [
    "summary_dfs = []\n",
    "\n",
    "for p, docket_id in zip(summary_paths, dockets):\n",
    "    if not p.exists():\n",
    "        print(f\"Warning: missing file {p}; skipping.\")\n",
    "        continue\n",
    "    df = pd.read_csv(p)\n",
    "    df[\"docket_id\"] = docket_id\n",
    "    summary_dfs.append(df)"
   ]
  },
  {
   "cell_type": "code",
   "execution_count": 37,
   "id": "ffad8a43-b6f5-4017-b473-ad22ec0100a4",
   "metadata": {},
   "outputs": [],
   "source": [
    "if comments_dfs:\n",
    "    all_comments = pd.concat(comments_dfs, ignore_index=True)\n",
    "else:\n",
    "    all_comments = pd.DataFrame()"
   ]
  },
  {
   "cell_type": "code",
   "execution_count": 57,
   "id": "78247765-4713-418a-a9c8-464469d82b25",
   "metadata": {},
   "outputs": [],
   "source": [
    "if summary_dfs:\n",
    "    all_summary = pd.concat(summary_dfs, ignore_index=True)\n",
    "else:\n",
    "    all_summary = pd.DataFrame()"
   ]
  },
  {
   "cell_type": "code",
   "execution_count": 59,
   "id": "b44ee8c3-f1a3-47a0-9c53-234bd1b2d69a",
   "metadata": {},
   "outputs": [],
   "source": [
    "all_comments.to_csv(OUTPUTS_DIR / \"all_comments_with_bertopic_combined.csv\", index=False)\n",
    "all_summary.to_csv(OUTPUTS_DIR / \"all_bertopic_topic_summary_combined.csv\", index=False)"
   ]
  }
 ],
 "metadata": {
  "kernelspec": {
   "display_name": "Python 3 (ipykernel)",
   "language": "python",
   "name": "python3"
  },
  "language_info": {
   "codemirror_mode": {
    "name": "ipython",
    "version": 3
   },
   "file_extension": ".py",
   "mimetype": "text/x-python",
   "name": "python",
   "nbconvert_exporter": "python",
   "pygments_lexer": "ipython3",
   "version": "3.12.7"
  }
 },
 "nbformat": 4,
 "nbformat_minor": 5
}
