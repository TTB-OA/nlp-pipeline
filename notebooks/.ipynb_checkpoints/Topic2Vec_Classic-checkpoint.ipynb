{
 "cells": [
  {
   "cell_type": "code",
   "execution_count": null,
   "id": "41eb5936-653c-4b7c-b913-e94468d5b3a2",
   "metadata": {},
   "outputs": [],
   "source": [
    "# Standard imports\n",
    "import pandas as pd \n",
    "import numpy as np\n",
    "import os\n",
    "import sklearn\n",
    "import scipy\n",
    "from pathlib import Path\n",
    "\n",
    "# Topic modeling with embeddings\n",
    "from top2vec import Top2Vec\n",
    "import joblib \n",
    "\n",
    "# Guided topic modeling\n",
    "from corextopic import corextopic as ct\n",
    "from sklearn.feature_extraction.text import CountVectorizer\n",
    "import scipy.sparse as ss\n",
    "\n",
    "# Sentiment analysis\n",
    "import torch\n",
    "from transformers import AutoTokenizer, AutoModelForSequenceClassification\n",
    "\n",
    "# Interactive visuals\n",
    "import streamlit as st\n",
    "import plotly.express as px\n",
    "import umap"
   ]
  },
  {
   "cell_type": "code",
   "execution_count": null,
   "id": "07330f8b-bbc0-4a9b-9d62-6ee71693c628",
   "metadata": {},
   "outputs": [
    {
     "name": "stdout",
     "output_type": "stream",
     "text": [
      "Loaded 12437 comments\n"
     ]
    },
    {
     "data": {
      "text/html": [
       "<div>\n",
       "<style scoped>\n",
       "    .dataframe tbody tr th:only-of-type {\n",
       "        vertical-align: middle;\n",
       "    }\n",
       "\n",
       "    .dataframe tbody tr th {\n",
       "        vertical-align: top;\n",
       "    }\n",
       "\n",
       "    .dataframe thead th {\n",
       "        text-align: right;\n",
       "    }\n",
       "</style>\n",
       "<table border=\"1\" class=\"dataframe\">\n",
       "  <thead>\n",
       "    <tr style=\"text-align: right;\">\n",
       "      <th></th>\n",
       "      <th>attachment_count</th>\n",
       "      <th>comment_text_sources</th>\n",
       "      <th>comment_id</th>\n",
       "      <th>document_id</th>\n",
       "      <th>comment_type</th>\n",
       "      <th>comment_last_modified_date</th>\n",
       "      <th>comment_highlighted_content</th>\n",
       "      <th>comment_withdrawn</th>\n",
       "      <th>comment_title</th>\n",
       "      <th>comment_object_id</th>\n",
       "      <th>...</th>\n",
       "      <th>agency_id</th>\n",
       "      <th>comment_start_date</th>\n",
       "      <th>comment_end_date</th>\n",
       "      <th>within_comment_period</th>\n",
       "      <th>open_for_comment</th>\n",
       "      <th>cfr_part</th>\n",
       "      <th>fr_doc_num</th>\n",
       "      <th>fr_vol_num</th>\n",
       "      <th>start_end_page</th>\n",
       "      <th>document_abstract</th>\n",
       "    </tr>\n",
       "  </thead>\n",
       "  <tbody>\n",
       "    <tr>\n",
       "      <th>0</th>\n",
       "      <td>1</td>\n",
       "      <td>[{'source': 'DIRECT (NON-ATTACHMENT)', 'text':...</td>\n",
       "      <td>TTB-2007-0067-0124</td>\n",
       "      <td>TTB-2007-0067-0001</td>\n",
       "      <td>Public Submission</td>\n",
       "      <td>2008-03-21 19:57:10</td>\n",
       "      <td></td>\n",
       "      <td>False</td>\n",
       "      <td>Comment from Espinosa, Adriana</td>\n",
       "      <td>0900006480402e6b</td>\n",
       "      <td>...</td>\n",
       "      <td>TTB</td>\n",
       "      <td>2007-11-20 05:00:00</td>\n",
       "      <td>2008-03-21 03:59:59</td>\n",
       "      <td>False</td>\n",
       "      <td>False</td>\n",
       "      <td>27 CFR 4, 9</td>\n",
       "      <td>E7-22715</td>\n",
       "      <td>72 FR</td>\n",
       "      <td>65256 - 65261</td>\n",
       "      <td>TTB has revised its 2005 proposal to establish...</td>\n",
       "    </tr>\n",
       "    <tr>\n",
       "      <th>1</th>\n",
       "      <td>1</td>\n",
       "      <td>[{'source': 'DIRECT (NON-ATTACHMENT)', 'text':...</td>\n",
       "      <td>TTB-2007-0067-0136</td>\n",
       "      <td>TTB-2007-0067-0001</td>\n",
       "      <td>Public Submission</td>\n",
       "      <td>2008-03-22 17:58:34</td>\n",
       "      <td></td>\n",
       "      <td>False</td>\n",
       "      <td>Comment from Kaplan, Marc</td>\n",
       "      <td>0900006480403ff7</td>\n",
       "      <td>...</td>\n",
       "      <td>TTB</td>\n",
       "      <td>2007-11-20 05:00:00</td>\n",
       "      <td>2008-03-21 03:59:59</td>\n",
       "      <td>False</td>\n",
       "      <td>False</td>\n",
       "      <td>27 CFR 4, 9</td>\n",
       "      <td>E7-22715</td>\n",
       "      <td>72 FR</td>\n",
       "      <td>65256 - 65261</td>\n",
       "      <td>TTB has revised its 2005 proposal to establish...</td>\n",
       "    </tr>\n",
       "    <tr>\n",
       "      <th>2</th>\n",
       "      <td>1</td>\n",
       "      <td>[{'source': 'DIRECT (NON-ATTACHMENT)', 'text':...</td>\n",
       "      <td>TTB-2007-0067-0159</td>\n",
       "      <td>TTB-2007-0067-0001</td>\n",
       "      <td>Public Submission</td>\n",
       "      <td>2008-03-22 20:09:30</td>\n",
       "      <td></td>\n",
       "      <td>False</td>\n",
       "      <td>Comment from Parry, Cameron</td>\n",
       "      <td>0900006480403ff1</td>\n",
       "      <td>...</td>\n",
       "      <td>TTB</td>\n",
       "      <td>2007-11-20 05:00:00</td>\n",
       "      <td>2008-03-21 03:59:59</td>\n",
       "      <td>False</td>\n",
       "      <td>False</td>\n",
       "      <td>27 CFR 4, 9</td>\n",
       "      <td>E7-22715</td>\n",
       "      <td>72 FR</td>\n",
       "      <td>65256 - 65261</td>\n",
       "      <td>TTB has revised its 2005 proposal to establish...</td>\n",
       "    </tr>\n",
       "    <tr>\n",
       "      <th>3</th>\n",
       "      <td>1</td>\n",
       "      <td>[{'source': 'DIRECT (NON-ATTACHMENT)', 'text':...</td>\n",
       "      <td>TTB-2007-0067-0192</td>\n",
       "      <td>TTB-2007-0067-0001</td>\n",
       "      <td>Public Submission</td>\n",
       "      <td>2008-03-27 19:22:09</td>\n",
       "      <td></td>\n",
       "      <td>False</td>\n",
       "      <td>Transmission e-mail for Comment from Paso Robl...</td>\n",
       "      <td>0900006480401ad3</td>\n",
       "      <td>...</td>\n",
       "      <td>TTB</td>\n",
       "      <td>2007-11-20 05:00:00</td>\n",
       "      <td>2008-03-21 03:59:59</td>\n",
       "      <td>False</td>\n",
       "      <td>False</td>\n",
       "      <td>27 CFR 4, 9</td>\n",
       "      <td>E7-22715</td>\n",
       "      <td>72 FR</td>\n",
       "      <td>65256 - 65261</td>\n",
       "      <td>TTB has revised its 2005 proposal to establish...</td>\n",
       "    </tr>\n",
       "    <tr>\n",
       "      <th>4</th>\n",
       "      <td>1</td>\n",
       "      <td>[{'source': 'DIRECT (NON-ATTACHMENT)', 'text':...</td>\n",
       "      <td>TTB-2007-0067-0179</td>\n",
       "      <td>TTB-2007-0067-0001</td>\n",
       "      <td>Public Submission</td>\n",
       "      <td>2008-03-26 19:09:49</td>\n",
       "      <td></td>\n",
       "      <td>False</td>\n",
       "      <td>Comment from Cass Vineyards (Cass, Stephen)</td>\n",
       "      <td>09000064804099ad</td>\n",
       "      <td>...</td>\n",
       "      <td>TTB</td>\n",
       "      <td>2007-11-20 05:00:00</td>\n",
       "      <td>2008-03-21 03:59:59</td>\n",
       "      <td>False</td>\n",
       "      <td>False</td>\n",
       "      <td>27 CFR 4, 9</td>\n",
       "      <td>E7-22715</td>\n",
       "      <td>72 FR</td>\n",
       "      <td>65256 - 65261</td>\n",
       "      <td>TTB has revised its 2005 proposal to establish...</td>\n",
       "    </tr>\n",
       "  </tbody>\n",
       "</table>\n",
       "<p>5 rows × 48 columns</p>\n",
       "</div>"
      ],
      "text/plain": [
       "   attachment_count                               comment_text_sources  \\\n",
       "0                 1  [{'source': 'DIRECT (NON-ATTACHMENT)', 'text':...   \n",
       "1                 1  [{'source': 'DIRECT (NON-ATTACHMENT)', 'text':...   \n",
       "2                 1  [{'source': 'DIRECT (NON-ATTACHMENT)', 'text':...   \n",
       "3                 1  [{'source': 'DIRECT (NON-ATTACHMENT)', 'text':...   \n",
       "4                 1  [{'source': 'DIRECT (NON-ATTACHMENT)', 'text':...   \n",
       "\n",
       "           comment_id         document_id       comment_type  \\\n",
       "0  TTB-2007-0067-0124  TTB-2007-0067-0001  Public Submission   \n",
       "1  TTB-2007-0067-0136  TTB-2007-0067-0001  Public Submission   \n",
       "2  TTB-2007-0067-0159  TTB-2007-0067-0001  Public Submission   \n",
       "3  TTB-2007-0067-0192  TTB-2007-0067-0001  Public Submission   \n",
       "4  TTB-2007-0067-0179  TTB-2007-0067-0001  Public Submission   \n",
       "\n",
       "  comment_last_modified_date comment_highlighted_content  comment_withdrawn  \\\n",
       "0        2008-03-21 19:57:10                                          False   \n",
       "1        2008-03-22 17:58:34                                          False   \n",
       "2        2008-03-22 20:09:30                                          False   \n",
       "3        2008-03-27 19:22:09                                          False   \n",
       "4        2008-03-26 19:09:49                                          False   \n",
       "\n",
       "                                       comment_title comment_object_id  ...  \\\n",
       "0                     Comment from Espinosa, Adriana  0900006480402e6b  ...   \n",
       "1                          Comment from Kaplan, Marc  0900006480403ff7  ...   \n",
       "2                        Comment from Parry, Cameron  0900006480403ff1  ...   \n",
       "3  Transmission e-mail for Comment from Paso Robl...  0900006480401ad3  ...   \n",
       "4        Comment from Cass Vineyards (Cass, Stephen)  09000064804099ad  ...   \n",
       "\n",
       "  agency_id   comment_start_date     comment_end_date within_comment_period  \\\n",
       "0       TTB  2007-11-20 05:00:00  2008-03-21 03:59:59                 False   \n",
       "1       TTB  2007-11-20 05:00:00  2008-03-21 03:59:59                 False   \n",
       "2       TTB  2007-11-20 05:00:00  2008-03-21 03:59:59                 False   \n",
       "3       TTB  2007-11-20 05:00:00  2008-03-21 03:59:59                 False   \n",
       "4       TTB  2007-11-20 05:00:00  2008-03-21 03:59:59                 False   \n",
       "\n",
       "   open_for_comment     cfr_part  fr_doc_num  fr_vol_num  start_end_page  \\\n",
       "0             False  27 CFR 4, 9    E7-22715       72 FR   65256 - 65261   \n",
       "1             False  27 CFR 4, 9    E7-22715       72 FR   65256 - 65261   \n",
       "2             False  27 CFR 4, 9    E7-22715       72 FR   65256 - 65261   \n",
       "3             False  27 CFR 4, 9    E7-22715       72 FR   65256 - 65261   \n",
       "4             False  27 CFR 4, 9    E7-22715       72 FR   65256 - 65261   \n",
       "\n",
       "                                   document_abstract  \n",
       "0  TTB has revised its 2005 proposal to establish...  \n",
       "1  TTB has revised its 2005 proposal to establish...  \n",
       "2  TTB has revised its 2005 proposal to establish...  \n",
       "3  TTB has revised its 2005 proposal to establish...  \n",
       "4  TTB has revised its 2005 proposal to establish...  \n",
       "\n",
       "[5 rows x 48 columns]"
      ]
     },
     "execution_count": 2,
     "metadata": {},
     "output_type": "execute_result"
    }
   ],
   "source": [
    "# Path to JSON file (one row per comment; each row a dict/object)\n",
    "DATA_PATH = Path(\"C:\\\\Users\\\\linna\\\\OneDrive\\\\Documents\\\\Python_Dev\\\\topic-modeling\\\\data\\\\public_comments.json\")\n",
    "\n",
    "df = pd.read_json(DATA_PATH, orient=\"records\", lines=False)  # or lines=True if newline-delimited\n",
    "\n",
    "# Ensure comments exist\n",
    "TEXT_COL = \"comment_text\"     \n",
    "if TEXT_COL not in df.columns:\n",
    "    raise ValueError(f\"{TEXT_COL} not found in dataframe columns: {df.columns.tolist()}\")\n",
    "\n",
    "df = df.dropna(subset=[TEXT_COL]).reset_index(drop=True)\n",
    "\n",
    "print(\"Loaded\", len(df), \"comments\")\n",
    "df.head()"
   ]
  },
  {
   "cell_type": "code",
   "execution_count": 3,
   "id": "6c51fd1f-732e-45cc-b7ed-2bd99a1682f9",
   "metadata": {},
   "outputs": [],
   "source": [
    "pr_238 = df[df['docket_id'] == 'TTB-2025-0003']\n",
    "pr_237 = df[df['docket_id'] == 'TTB-2025-0002']"
   ]
  },
  {
   "cell_type": "code",
   "execution_count": 4,
   "id": "4b1fe707-e8da-49a2-b996-906c5dd6a084",
   "metadata": {},
   "outputs": [
    {
     "name": "stdout",
     "output_type": "stream",
     "text": [
      "TTB-2025-0003: 189 comments\n",
      "TTB-2025-0002: 174 comments\n"
     ]
    }
   ],
   "source": [
    "print('TTB-2025-0003: ' + str(len(pr_238)) + ' comments')\n",
    "print('TTB-2025-0002: ' + str(len(pr_237)) + ' comments')"
   ]
  },
  {
   "cell_type": "code",
   "execution_count": 5,
   "id": "808177dd-18a6-40e0-beaf-d814ce64ec3f",
   "metadata": {},
   "outputs": [],
   "source": [
    "df = pr_238"
   ]
  },
  {
   "cell_type": "code",
   "execution_count": 6,
   "id": "aeb06a4f-6793-4c51-8d03-1e407e8f174e",
   "metadata": {},
   "outputs": [
    {
     "name": "stdout",
     "output_type": "stream",
     "text": [
      "Docs in df: 189\n"
     ]
    }
   ],
   "source": [
    "df = df.dropna(subset=[TEXT_COL]).reset_index(drop=True)\n",
    "print(\"Docs in df:\", len(df))"
   ]
  },
  {
   "cell_type": "code",
   "execution_count": 7,
   "id": "83664638-00ad-4c04-aa72-a002b7ea6b0e",
   "metadata": {},
   "outputs": [
    {
     "name": "stderr",
     "output_type": "stream",
     "text": [
      "2025-08-27 13:52:29,818 - top2vec - INFO - Pre-processing documents for training\n",
      "C:\\Users\\linna\\anaconda3\\Lib\\site-packages\\sklearn\\feature_extraction\\text.py:517: UserWarning: The parameter 'token_pattern' will not be used since 'tokenizer' is not None'\n",
      "  warnings.warn(\n",
      "2025-08-27 13:52:29,983 - top2vec - INFO - Downloading all-MiniLM-L6-v2 model\n",
      "2025-08-27 13:52:31,969 - top2vec - INFO - Creating joint document/word embedding\n",
      "2025-08-27 13:52:41,719 - top2vec - INFO - Creating lower dimension embedding of documents\n",
      "2025-08-27 13:52:58,303 - top2vec - INFO - Finding dense areas of documents\n",
      "C:\\Users\\linna\\anaconda3\\Lib\\site-packages\\sklearn\\utils\\deprecation.py:132: FutureWarning: 'force_all_finite' was renamed to 'ensure_all_finite' in 1.6 and will be removed in 1.8.\n",
      "  warnings.warn(\n",
      "C:\\Users\\linna\\anaconda3\\Lib\\site-packages\\sklearn\\utils\\deprecation.py:132: FutureWarning: 'force_all_finite' was renamed to 'ensure_all_finite' in 1.6 and will be removed in 1.8.\n",
      "  warnings.warn(\n",
      "2025-08-27 13:52:58,337 - top2vec - INFO - Finding topics\n"
     ]
    }
   ],
   "source": [
    "# Prepare documents (list of comments as strings) and document (comment) ids\n",
    "documents = df[TEXT_COL].astype(str).tolist()\n",
    "# Keep comment_id as strings (Top2Vec will return these when using document_ids)\n",
    "document_ids = df[\"comment_id\"].astype(str).tolist()\n",
    "\n",
    "# Set embedding model and training parameters\n",
    "embedding_model = \"all-MiniLM-L6-v2\"\n",
    "speed = \"deep-learn\"\n",
    "workers = os.cpu_count() or 1\n",
    "\n",
    "# Train model (may take a while depending on number of comments and chosen 'speed' \n",
    "model = Top2Vec(\n",
    "    documents=documents,\n",
    "    document_ids=document_ids,\n",
    "    embedding_model=embedding_model,\n",
    "    speed=speed,\n",
    "    workers=workers\n",
    ")"
   ]
  },
  {
   "cell_type": "code",
   "execution_count": 8,
   "id": "01a901d0-489c-49ea-9925-c0b8caf531b4",
   "metadata": {},
   "outputs": [
    {
     "name": "stdout",
     "output_type": "stream",
     "text": [
      "Number of topics discovered: 1\n",
      "Top 10 topic sizes (docs per topic):\n",
      "  Topic 0: 189 documents\n"
     ]
    }
   ],
   "source": [
    "# Topics\n",
    "n_topics = model.get_num_topics()\n",
    "print(\"Number of topics discovered:\", n_topics)\n",
    "\n",
    "topic_sizes, topic_nums = model.get_topic_sizes()\n",
    "print(\"Top 10 topic sizes (docs per topic):\")\n",
    "for size, num in zip(topic_sizes[:10], topic_nums[:10]):\n",
    "    print(f\"  Topic {num}: {size} documents\")"
   ]
  },
  {
   "cell_type": "code",
   "execution_count": 9,
   "id": "d7d8479c-96d2-4eb6-b031-2a792fb7b142",
   "metadata": {},
   "outputs": [
    {
     "name": "stdout",
     "output_type": "stream",
     "text": [
      "\n",
      "Topic 0\n",
      "  allergens (0.559)\n",
      "  allergies (0.424)\n",
      "  label (0.367)\n",
      "  labeling (0.342)\n",
      "  alcohol (0.341)\n",
      "  beverages (0.327)\n",
      "  allergen (0.321)\n",
      "  labels (0.313)\n",
      "  ingredients (0.283)\n",
      "  alcoholic (0.261)\n"
     ]
    }
   ],
   "source": [
    "# Top N words for top N topics\n",
    "top_n = min(10, n_topics)\n",
    "topic_words, word_scores, topic_numbers = model.get_topics(top_n)\n",
    "for words, scores, tnum in zip(topic_words, word_scores, topic_numbers):\n",
    "    print(\"\\nTopic\", tnum)\n",
    "    # show top 10 words (they come ordered)\n",
    "    for w, s in zip(words[:10], scores[:10]):\n",
    "        print(f\"  {w} ({s:.3f})\")"
   ]
  },
  {
   "cell_type": "code",
   "execution_count": 10,
   "id": "06c0ddc9-efe5-4654-8835-b7f61ae8370d",
   "metadata": {},
   "outputs": [],
   "source": [
    "# Map dominant topic back to df\n",
    "# Use search_documents_by_topic for each topic and assign docs to their best topic.\n",
    "docid_to_topic = {}\n",
    "topic_sizes, topic_nums = model.get_topic_sizes()  # topics ordered by size\n",
    "\n",
    "for size, tnum in zip(topic_sizes, topic_nums):\n",
    "    # retrieve all documents for this topic (num_docs = topic size)\n",
    "    docs, doc_scores, doc_ids = model.search_documents_by_topic(topic_num=tnum, num_docs=int(size))\n",
    "    # doc_ids are the original document_ids you passed to the model\n",
    "    for did in doc_ids:\n",
    "        # assign topic tnum as the dominant topic for did\n",
    "        # if a doc appears in multiple lists (unlikely), first assignment wins (largest topic first)\n",
    "        if did not in docid_to_topic:\n",
    "            docid_to_topic[did] = tnum\n",
    "\n",
    "# Create a column in df with the dominant topic (or -1 if not assigned)\n",
    "df[\"top2vec_dominant_topic\"] = df[\"comment_id\"].astype(str).map(docid_to_topic).fillna(-1).astype(int)"
   ]
  },
  {
   "cell_type": "code",
   "execution_count": 11,
   "id": "d23bcf48-3c5b-4e19-af32-5c5659f98fd9",
   "metadata": {},
   "outputs": [],
   "source": [
    "# Label with top terms\n",
    "top_n = 5\n",
    "\n",
    "# Get the words for every topic the model discovered\n",
    "num_topics = model.get_num_topics()\n",
    "topic_words, word_scores, topic_nums = model.get_topics(num_topics)\n",
    "\n",
    "topic_label_map = {}\n",
    "for tnum, words in zip(topic_nums, topic_words):\n",
    "    words_sel = words[:top_n]                     \n",
    "    label = \", \".join(words_sel)                  \n",
    "    topic_label_map[int(tnum)] = label"
   ]
  },
  {
   "cell_type": "code",
   "execution_count": 12,
   "id": "143e9465-1854-4854-95ae-102b122f8d62",
   "metadata": {},
   "outputs": [],
   "source": [
    "# map to df; fallback label for unknown topics\n",
    "df[\"top2vec_terms\"] = (\n",
    "    df[\"top2vec_dominant_topic\"]\n",
    "      .map(topic_label_map)\n",
    "      .fillna(\"Unclear\")\n",
    ")"
   ]
  },
  {
   "cell_type": "code",
   "execution_count": null,
   "id": "632cf0b4-c922-42eb-bb70-49c6bdd817e4",
   "metadata": {},
   "outputs": [
    {
     "name": "stdout",
     "output_type": "stream",
     "text": [
      "Model saved to: top2vec_model\n"
     ]
    }
   ],
   "source": [
    "# Save Topic2Vec model (Top2Vec has its own save/load)\n",
    "model_save_path = \"C:\\\\Users\\\\linna\\\\OneDrive\\\\Documents\\\\Python_Dev\\\\topic-modeling\\\\models\\\\top2vec_model\"\n",
    "model.save(model_save_path)\n",
    "print(\"Model saved to:\", model_save_path)"
   ]
  }
 ],
 "metadata": {
  "kernelspec": {
   "display_name": "Python 3 (ipykernel)",
   "language": "python",
   "name": "python3"
  },
  "language_info": {
   "codemirror_mode": {
    "name": "ipython",
    "version": 3
   },
   "file_extension": ".py",
   "mimetype": "text/x-python",
   "name": "python",
   "nbconvert_exporter": "python",
   "pygments_lexer": "ipython3",
   "version": "3.12.7"
  }
 },
 "nbformat": 4,
 "nbformat_minor": 5
}
