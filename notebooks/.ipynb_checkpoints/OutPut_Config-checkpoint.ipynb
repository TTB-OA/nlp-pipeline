{
 "cells": [
  {
   "cell_type": "code",
   "execution_count": 4,
   "id": "463592f3-7d50-4bc1-86e6-68118b9a2c0e",
   "metadata": {},
   "outputs": [],
   "source": [
    "import pandas as pd\n",
    "import numpy as np\n",
    "import os\n",
    "from pathlib import Path"
   ]
  },
  {
   "cell_type": "code",
   "execution_count": 6,
   "id": "0ba21dba-d40e-4ce8-bfae-7bfcf310aa4d",
   "metadata": {},
   "outputs": [],
   "source": [
    "dockets = [\"TTB-2025-0003\", \"TTB-2025-0002\"]"
   ]
  },
  {
   "cell_type": "code",
   "execution_count": 8,
   "id": "973a0e28-2b8d-4cfb-8258-3bb0b45af9b0",
   "metadata": {},
   "outputs": [],
   "source": [
    "try:\n",
    "    REPO_ROOT = Path(__file__).parent.parent.resolve()\n",
    "except NameError:\n",
    "    REPO_ROOT = Path(os.getcwd()).parent.resolve()\n",
    "\n",
    "OUTPUTS_DIR = REPO_ROOT / \"outputs\"\n",
    "OUTPUTS_DIR.mkdir(parents=True, exist_ok=True)"
   ]
  },
  {
   "cell_type": "code",
   "execution_count": 10,
   "id": "f91bba72-c8ec-426f-bccf-0b695c265227",
   "metadata": {},
   "outputs": [],
   "source": [
    "comments_paths = []\n",
    "summary_paths = []\n",
    "\n",
    "for i in dockets:\n",
    "    comments_path = OUTPUTS_DIR / f\"comments_with_bertopic_{i}.csv\"\n",
    "    summary_path    = OUTPUTS_DIR / f\"bertopic_topic_summary_{i}.csv\"\n",
    "    comments_paths.append(comments_path)\n",
    "    summary_paths.append(summary_path)"
   ]
  },
  {
   "cell_type": "code",
   "execution_count": 12,
   "id": "d7a68f34-113b-4542-9c16-79d303d9873f",
   "metadata": {},
   "outputs": [
    {
     "name": "stdout",
     "output_type": "stream",
     "text": [
      "[WindowsPath('C:/Users/linna/OneDrive/Documents/Python_Dev/topic-modeling/outputs/comments_with_bertopic_TTB-2025-0003.csv'), WindowsPath('C:/Users/linna/OneDrive/Documents/Python_Dev/topic-modeling/outputs/comments_with_bertopic_TTB-2025-0002.csv')]\n"
     ]
    }
   ],
   "source": [
    "print(comments_paths)"
   ]
  },
  {
   "cell_type": "code",
   "execution_count": 14,
   "id": "f14dc505-8e08-46e6-bfbc-940b12ac9578",
   "metadata": {},
   "outputs": [],
   "source": [
    "comments_dfs = []\n",
    "for p in comments_paths:\n",
    "    if not p.exists():\n",
    "        print(f\"Warning: missing file {p}; skipping.\")\n",
    "        continue\n",
    "    comments_dfs.append(pd.read_csv(p))"
   ]
  },
  {
   "cell_type": "code",
   "execution_count": 22,
   "id": "ab07feef-a6db-44d6-aea7-5afb211c3a71",
   "metadata": {},
   "outputs": [
    {
     "data": {
      "text/html": [
       "<div>\n",
       "<style scoped>\n",
       "    .dataframe tbody tr th:only-of-type {\n",
       "        vertical-align: middle;\n",
       "    }\n",
       "\n",
       "    .dataframe tbody tr th {\n",
       "        vertical-align: top;\n",
       "    }\n",
       "\n",
       "    .dataframe thead th {\n",
       "        text-align: right;\n",
       "    }\n",
       "</style>\n",
       "<table border=\"1\" class=\"dataframe\">\n",
       "  <thead>\n",
       "    <tr style=\"text-align: right;\">\n",
       "      <th></th>\n",
       "      <th>attachment_count</th>\n",
       "      <th>comment_text_sources</th>\n",
       "      <th>comment_id</th>\n",
       "      <th>document_id</th>\n",
       "      <th>comment_type</th>\n",
       "      <th>comment_last_modified_date</th>\n",
       "      <th>comment_highlighted_content</th>\n",
       "      <th>comment_withdrawn</th>\n",
       "      <th>comment_title</th>\n",
       "      <th>comment_object_id</th>\n",
       "      <th>...</th>\n",
       "      <th>fr_vol_num</th>\n",
       "      <th>start_end_page</th>\n",
       "      <th>bertopic_dominant_topic</th>\n",
       "      <th>bertopic_top_topics</th>\n",
       "      <th>bertopic_topic_rank_1</th>\n",
       "      <th>bertopic_topic_rank_2</th>\n",
       "      <th>bertopic_topic_rank_3</th>\n",
       "      <th>top_emotion</th>\n",
       "      <th>top_emotion_score</th>\n",
       "      <th>top_emotion_scores_full</th>\n",
       "    </tr>\n",
       "  </thead>\n",
       "  <tbody>\n",
       "    <tr>\n",
       "      <th>0</th>\n",
       "      <td>0</td>\n",
       "      <td>[{'source': 'DIRECT (NON-ATTACHMENT)', 'text':...</td>\n",
       "      <td>TTB-2025-0003-2168</td>\n",
       "      <td>TTB-2025-0003-0001</td>\n",
       "      <td>Public Submission</td>\n",
       "      <td>2025-08-29 03:51:26</td>\n",
       "      <td>NaN</td>\n",
       "      <td>False</td>\n",
       "      <td>Mass Comment 1 on FR Doc # 2025-00955</td>\n",
       "      <td>0900006486a75c84</td>\n",
       "      <td>...</td>\n",
       "      <td>90 FR 5763</td>\n",
       "      <td>5763 - 5778</td>\n",
       "      <td>2</td>\n",
       "      <td>[2, 1, 18]</td>\n",
       "      <td>2</td>\n",
       "      <td>1</td>\n",
       "      <td>18</td>\n",
       "      <td>gratitude</td>\n",
       "      <td>0.987184</td>\n",
       "      <td>{'admiration': 0.00041033554589375854, 'amusem...</td>\n",
       "    </tr>\n",
       "    <tr>\n",
       "      <th>1</th>\n",
       "      <td>0</td>\n",
       "      <td>[{'source': 'DIRECT (NON-ATTACHMENT)', 'text':...</td>\n",
       "      <td>TTB-2025-0003-2630</td>\n",
       "      <td>TTB-2025-0003-0001</td>\n",
       "      <td>Public Submission</td>\n",
       "      <td>2025-08-29 04:24:15</td>\n",
       "      <td>NaN</td>\n",
       "      <td>False</td>\n",
       "      <td>Mass Comment 2: University of Virginia Student...</td>\n",
       "      <td>0900006486a99220</td>\n",
       "      <td>...</td>\n",
       "      <td>90 FR 5763</td>\n",
       "      <td>5763 - 5778</td>\n",
       "      <td>-1</td>\n",
       "      <td>[-1, 48, -1]</td>\n",
       "      <td>-1</td>\n",
       "      <td>48</td>\n",
       "      <td>-1</td>\n",
       "      <td>gratitude</td>\n",
       "      <td>0.955423</td>\n",
       "      <td>{'admiration': 0.0008738570613786578, 'amuseme...</td>\n",
       "    </tr>\n",
       "  </tbody>\n",
       "</table>\n",
       "<p>2 rows × 53 columns</p>\n",
       "</div>"
      ],
      "text/plain": [
       "   attachment_count                               comment_text_sources  \\\n",
       "0                 0  [{'source': 'DIRECT (NON-ATTACHMENT)', 'text':...   \n",
       "1                 0  [{'source': 'DIRECT (NON-ATTACHMENT)', 'text':...   \n",
       "\n",
       "           comment_id         document_id       comment_type  \\\n",
       "0  TTB-2025-0003-2168  TTB-2025-0003-0001  Public Submission   \n",
       "1  TTB-2025-0003-2630  TTB-2025-0003-0001  Public Submission   \n",
       "\n",
       "  comment_last_modified_date  comment_highlighted_content  comment_withdrawn  \\\n",
       "0        2025-08-29 03:51:26                          NaN              False   \n",
       "1        2025-08-29 04:24:15                          NaN              False   \n",
       "\n",
       "                                       comment_title comment_object_id  ...  \\\n",
       "0              Mass Comment 1 on FR Doc # 2025-00955  0900006486a75c84  ...   \n",
       "1  Mass Comment 2: University of Virginia Student...  0900006486a99220  ...   \n",
       "\n",
       "   fr_vol_num start_end_page bertopic_dominant_topic bertopic_top_topics  \\\n",
       "0  90 FR 5763    5763 - 5778                       2          [2, 1, 18]   \n",
       "1  90 FR 5763    5763 - 5778                      -1        [-1, 48, -1]   \n",
       "\n",
       "   bertopic_topic_rank_1 bertopic_topic_rank_2  bertopic_topic_rank_3  \\\n",
       "0                      2                     1                     18   \n",
       "1                     -1                    48                     -1   \n",
       "\n",
       "   top_emotion  top_emotion_score  \\\n",
       "0    gratitude           0.987184   \n",
       "1    gratitude           0.955423   \n",
       "\n",
       "                             top_emotion_scores_full  \n",
       "0  {'admiration': 0.00041033554589375854, 'amusem...  \n",
       "1  {'admiration': 0.0008738570613786578, 'amuseme...  \n",
       "\n",
       "[2 rows x 53 columns]"
      ]
     },
     "execution_count": 22,
     "metadata": {},
     "output_type": "execute_result"
    }
   ],
   "source": [
    "all_comments.head(2)"
   ]
  },
  {
   "cell_type": "code",
   "execution_count": null,
   "id": "0f46a009-cb42-4416-bad7-bbd39a523a7c",
   "metadata": {},
   "outputs": [],
   "source": [
    "comments_dfs = []\n",
    "\n",
    "for p, docket in zip(comments_paths, dockets):\n",
    "    if not p.exists():\n",
    "        print(f\"Warning: missing file {p}; skipping.\")\n",
    "        continue\n",
    "    df = pd.read_csv(p)\n",
    "    df[\"topic_id\"] = str(docket_id) + \"_\" + str(df[\"])\n",
    "    comments_dfs.append(df)"
   ]
  },
  {
   "cell_type": "code",
   "execution_count": 55,
   "id": "fdd1fd4c-7d65-4e6b-ad0e-2dd1581d615e",
   "metadata": {},
   "outputs": [],
   "source": [
    "summary_dfs = []\n",
    "\n",
    "for p, docket_id in zip(summary_paths, dockets):\n",
    "    if not p.exists():\n",
    "        print(f\"Warning: missing file {p}; skipping.\")\n",
    "        continue\n",
    "    df = pd.read_csv(p)\n",
    "    df[\"docket_id\"] = docket_id\n",
    "    summary_dfs.append(df)"
   ]
  },
  {
   "cell_type": "code",
   "execution_count": 16,
   "id": "ffad8a43-b6f5-4017-b473-ad22ec0100a4",
   "metadata": {},
   "outputs": [],
   "source": [
    "if comments_dfs:\n",
    "    all_comments = pd.concat(comments_dfs, ignore_index=True)\n",
    "else:\n",
    "    all_comments = pd.DataFrame()"
   ]
  },
  {
   "cell_type": "code",
   "execution_count": 57,
   "id": "78247765-4713-418a-a9c8-464469d82b25",
   "metadata": {},
   "outputs": [],
   "source": [
    "if summary_dfs:\n",
    "    all_summary = pd.concat(summary_dfs, ignore_index=True)\n",
    "else:\n",
    "    all_summary = pd.DataFrame()"
   ]
  },
  {
   "cell_type": "code",
   "execution_count": 59,
   "id": "b44ee8c3-f1a3-47a0-9c53-234bd1b2d69a",
   "metadata": {},
   "outputs": [],
   "source": [
    "all_comments.to_csv(OUTPUTS_DIR / \"all_comments_with_bertopic_combined.csv\", index=False)\n",
    "all_summary.to_csv(OUTPUTS_DIR / \"all_bertopic_topic_summary_combined.csv\", index=False)"
   ]
  }
 ],
 "metadata": {
  "kernelspec": {
   "display_name": "Python 3 (ipykernel)",
   "language": "python",
   "name": "python3"
  },
  "language_info": {
   "codemirror_mode": {
    "name": "ipython",
    "version": 3
   },
   "file_extension": ".py",
   "mimetype": "text/x-python",
   "name": "python",
   "nbconvert_exporter": "python",
   "pygments_lexer": "ipython3",
   "version": "3.12.7"
  }
 },
 "nbformat": 4,
 "nbformat_minor": 5
}
