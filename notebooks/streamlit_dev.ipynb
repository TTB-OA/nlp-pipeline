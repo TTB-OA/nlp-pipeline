{
 "cells": [
  {
   "cell_type": "code",
   "execution_count": 1,
   "id": "1517537a-fc32-49b7-9950-93860af4d858",
   "metadata": {},
   "outputs": [],
   "source": [
    "from pathlib import Path\n",
    "import os\n",
    "import subprocess"
   ]
  },
  {
   "cell_type": "code",
   "execution_count": 5,
   "id": "d9265824-bd0e-4e46-a8a3-52b50d05186d",
   "metadata": {},
   "outputs": [
    {
     "name": "stdout",
     "output_type": "stream",
     "text": [
      "Repo root: C:\\Users\\linna\\OneDrive\\Documents\\Python_Dev\\topic-modeling\n",
      "Outputs folder: C:\\Users\\linna\\OneDrive\\Documents\\Python_Dev\\topic-modeling\\outputs\n",
      "Topic summary exists: True\n",
      "Comments CSV exists: True\n"
     ]
    }
   ],
   "source": [
    "# ------------------ CONFIG ------------------\n",
    "# Try to detect repo root\n",
    "try:\n",
    "    REPO_ROOT = Path(__file__).parent.parent.resolve()\n",
    "except NameError:\n",
    "    REPO_ROOT = Path(os.getcwd()).parent.resolve()\n",
    "\n",
    "OUTPUTS_DIR = REPO_ROOT / \"outputs\"\n",
    "OUTPUTS_DIR.mkdir(exist_ok=True)\n",
    "\n",
    "TOPIC_SUMMARY_CSV = OUTPUTS_DIR / \"top2vec_topic_summary.csv\"\n",
    "COMMENTS_CSV = OUTPUTS_DIR / \"comments_with_top2vec.csv\""
   ]
  },
  {
   "cell_type": "code",
   "execution_count": 7,
   "id": "18b73919-076d-40b3-984c-97341827e3c5",
   "metadata": {},
   "outputs": [
    {
     "data": {
      "text/plain": [
       "923"
      ]
     },
     "execution_count": 7,
     "metadata": {},
     "output_type": "execute_result"
    }
   ],
   "source": [
    "# ------------------ CREATE TEMP STREAMLIT SCRIPT ------------------\n",
    "APP_SCRIPT = REPO_ROOT / \"app/test_app.py\"\n",
    "APP_SCRIPT.parent.mkdir(exist_ok=True)  # ensure app folder exists\n",
    "\n",
    "app_code = f\"\"\"\n",
    "from pathlib import Path\n",
    "import streamlit as st\n",
    "import pandas as pd\n",
    "\n",
    "DEFAULT_TOPIC_SUMMARY = Path(r\"{TOPIC_SUMMARY_CSV}\")\n",
    "DEFAULT_COMMENTS_DF = Path(r\"{COMMENTS_CSV}\")\n",
    "\n",
    "st.set_page_config(page_title=\"Top2Vec Explorer\", layout=\"wide\")\n",
    "st.title(\"Top2Vec Explorer — Notebook Test\")\n",
    "\n",
    "@st.cache_data\n",
    "def load_csv(path: Path):\n",
    "    try:\n",
    "        return pd.read_csv(path)\n",
    "    except Exception:\n",
    "        return None\n",
    "\n",
    "topic_summary = load_csv(DEFAULT_TOPIC_SUMMARY)\n",
    "comments_df = load_csv(DEFAULT_COMMENTS_DF)\n",
    "\n",
    "if topic_summary is None or comments_df is None:\n",
    "    st.warning(\"Topic summary or comments CSV not loaded.\")\n",
    "else:\n",
    "    st.subheader(\"Topic summary\")\n",
    "    st.dataframe(topic_summary.head(10))\n",
    "    \n",
    "    st.subheader(\"Comments sample\")\n",
    "    st.dataframe(comments_df.head(10))\n",
    "\"\"\"\n",
    "\n",
    "APP_SCRIPT.write_text(app_code)"
   ]
  },
  {
   "cell_type": "code",
   "execution_count": 9,
   "id": "88aab786-372c-4ec9-abf0-6c781862ddb2",
   "metadata": {},
   "outputs": [
    {
     "data": {
      "text/plain": [
       "CompletedProcess(args=['streamlit', 'run', 'C:\\\\Users\\\\linna\\\\OneDrive\\\\Documents\\\\Python_Dev\\\\topic-modeling\\\\app\\\\test_app.py'], returncode=4294967295)"
      ]
     },
     "execution_count": 9,
     "metadata": {},
     "output_type": "execute_result"
    }
   ],
   "source": [
    "# ------------------ RUN STREAMLIT ------------------\n",
    "# This will open the app in your default browser\n",
    "subprocess.run([\"streamlit\", \"run\", str(APP_SCRIPT)])"
   ]
  },
  {
   "cell_type": "code",
   "execution_count": null,
   "id": "37272cef-d5c2-41f8-aa6a-bc83d919168e",
   "metadata": {},
   "outputs": [],
   "source": []
  }
 ],
 "metadata": {
  "kernelspec": {
   "display_name": "Python 3 (ipykernel)",
   "language": "python",
   "name": "python3"
  },
  "language_info": {
   "codemirror_mode": {
    "name": "ipython",
    "version": 3
   },
   "file_extension": ".py",
   "mimetype": "text/x-python",
   "name": "python",
   "nbconvert_exporter": "python",
   "pygments_lexer": "ipython3",
   "version": "3.12.7"
  }
 },
 "nbformat": 4,
 "nbformat_minor": 5
}
